{
 "cells": [
  {
   "cell_type": "markdown",
   "metadata": {},
   "source": [
    "This notebook gets the probe columns in a format for Galaxy's cut function to cut on methylation wide\n",
    "- prefix each column with \"c\"\n",
    "- 1 indexing rather than 0 indexing"
   ]
  },
  {
   "cell_type": "code",
   "execution_count": 6,
   "metadata": {},
   "outputs": [],
   "source": [
    "# Define input and output file paths\n",
    "input_file1 = \"../_OUTPUTS_/found_columns_prim.txt\"  \n",
    "output_file1 = \"../_OUTPUTS_/galaxy_input_prim.txt\"  \n",
    "input_file2 = \"../_OUTPUTS_/found_columns_sith_corr.txt\"  \n",
    "output_file2 = \"../_OUTPUTS_/galaxy_input_sith_corr.txt\"  \n",
    "input_file3 = \"../_OUTPUTS_/found_columns_iqr_corr.txt\"  \n",
    "output_file3 = \"../_OUTPUTS_/galaxy_input_iqr_corr.txt\"  \n"
   ]
  },
  {
   "cell_type": "code",
   "execution_count": 7,
   "metadata": {},
   "outputs": [],
   "source": [
    "def process_indices(input_file, output_file):\n",
    "    \"\"\"\n",
    "    Reads a file with 'Column' and 'Index' values, increments each index by 1,\n",
    "    and writes the result in CSV format to an output file, prefixing each number with 'c'.\n",
    "    \"\"\"\n",
    "    # Initialize an empty list to store the incremented indices\n",
    "    incremented_indices = []\n",
    "\n",
    "    # Read the input file and process each line\n",
    "    with open(input_file, \"r\") as file:\n",
    "        for line in file:\n",
    "            # Split the line by commas to extract the index value\n",
    "            parts = line.strip().split(\", \")\n",
    "            \n",
    "            # Extract the index part and convert it to an integer\n",
    "            for part in parts:\n",
    "                if part.startswith(\"Index: \"):\n",
    "                    index_value = int(part.split(\": \")[1])\n",
    "                    \n",
    "                    # Increment the index by 1, prefix with 'c', and add to the list\n",
    "                    incremented_indices.append(f\"c{index_value + 1}\")\n",
    "\n",
    "    # Write the incremented indices to the output file in CSV format\n",
    "    with open(output_file, \"w\") as file:\n",
    "        file.write(\",\".join(incremented_indices))\n",
    "\n",
    "    print(f\"Processed {len(incremented_indices)} indices. Output saved to {output_file}.\")\n",
    "\n",
    "# Example usage\n",
    "# process_indices(\"input.txt\", \"output.txt\")\n"
   ]
  },
  {
   "cell_type": "code",
   "execution_count": 8,
   "metadata": {},
   "outputs": [
    {
     "name": "stdout",
     "output_type": "stream",
     "text": [
      "Processed 252 indices. Output saved to ../_OUTPUTS_/galaxy_input_prim.txt.\n",
      "Processed 252 indices. Output saved to ../_OUTPUTS_/galaxy_input_sith_corr.txt.\n",
      "Processed 252 indices. Output saved to ../_OUTPUTS_/galaxy_input_iqr_corr.txt.\n"
     ]
    }
   ],
   "source": [
    "process_indices(input_file1,output_file1)\n",
    "process_indices(input_file2,output_file2)\n",
    "process_indices(input_file3,output_file3)"
   ]
  }
 ],
 "metadata": {
  "kernelspec": {
   "display_name": "Python 3",
   "language": "python",
   "name": "python3"
  },
  "language_info": {
   "codemirror_mode": {
    "name": "ipython",
    "version": 3
   },
   "file_extension": ".py",
   "mimetype": "text/x-python",
   "name": "python",
   "nbconvert_exporter": "python",
   "pygments_lexer": "ipython3",
   "version": "3.9.6"
  }
 },
 "nbformat": 4,
 "nbformat_minor": 2
}
