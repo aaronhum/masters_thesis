{
 "cells": [
  {
   "cell_type": "markdown",
   "id": "4f2a9adc",
   "metadata": {},
   "source": [
    "# Differential Methylation Analysis Notebook\n",
    "\n",
    "This notebook performs a series of data import, preprocessing, and differential methylation analyses. The analysis consists of:\n",
    "\n",
    "- Installing and loading necessary packages\n",
    "- Loading the data (SiTH and methylation data)\n",
    "- Merging datasets and removing duplicates\n",
    "- Differential analysis for primary samples (grouped by SITH value levels)\n",
    "- Differential analysis for non-primary samples with SITH as a continuous variable\n",
    "- Differential analysis for non-primary samples with INT_IQR as a continuous variable\n"
   ]
  },
  {
   "cell_type": "code",
   "execution_count": 1,
   "id": "7d40f91a",
   "metadata": {
    "vscode": {
     "languageId": "r"
    }
   },
   "outputs": [
    {
     "name": "stderr",
     "output_type": "stream",
     "text": [
      "'getOption(\"repos\")' replaces Bioconductor standard repositories, see\n",
      "'help(\"repositories\", package = \"BiocManager\")' for details.\n",
      "Replacement repositories:\n",
      "    CRAN: https://cran.r-project.org\n",
      "\n",
      "Bioconductor version 3.20 (BiocManager 1.30.25), R 4.4.2 (2024-10-31)\n",
      "\n",
      "Old packages: 'KernSmooth', 'MASS', 'Matrix', 'class', 'cluster', 'foreign',\n",
      "  'nnet', 'rlang', 'rpart', 'spatial', 'survival'\n",
      "\n"
     ]
    }
   ],
   "source": [
    "## Section: Install Necessary Packages\n",
    "\n",
    "if (!require(\"BiocManager\", quietly = TRUE))\n",
    "  install.packages(\"BiocManager\")\n",
    "BiocManager::install(version = \"3.20\")\n"
   ]
  },
  {
   "cell_type": "code",
   "execution_count": 2,
   "id": "81ad1201",
   "metadata": {
    "vscode": {
     "languageId": "r"
    }
   },
   "outputs": [
    {
     "name": "stderr",
     "output_type": "stream",
     "text": [
      "'getOption(\"repos\")' replaces Bioconductor standard repositories, see\n",
      "'help(\"repositories\", package = \"BiocManager\")' for details.\n",
      "Replacement repositories:\n",
      "    CRAN: https://cran.r-project.org\n",
      "\n",
      "Bioconductor version 3.20 (BiocManager 1.30.25), R 4.4.2 (2024-10-31)\n",
      "\n",
      "Warning message:\n",
      "\"package(s) not installed when version(s) same as or greater than current; use\n",
      "  `force = TRUE` to re-install: 'limma'\"\n",
      "Old packages: 'KernSmooth', 'MASS', 'Matrix', 'class', 'cluster', 'foreign',\n",
      "  'nnet', 'rlang', 'rpart', 'spatial', 'survival'\n",
      "\n"
     ]
    }
   ],
   "source": [
    "BiocManager::install(c(\"limma\"))"
   ]
  },
  {
   "cell_type": "code",
   "execution_count": 3,
   "id": "6906ce3e",
   "metadata": {
    "vscode": {
     "languageId": "r"
    }
   },
   "outputs": [],
   "source": [
    "## Section: Load Libraries and Set Threading Options\n",
    "\n",
    "library(data.table)\n",
    "library(limma)\n",
    "library(parallel)\n",
    "library(Matrix)\n",
    "library(RhpcBLASctl)\n",
    "\n",
    "# Set the number of threads for BLAS operations and data.table\n",
    "num_cores <- detectCores()\n",
    "blas_set_num_threads(num_cores)\n",
    "setDTthreads(threads = num_cores)\n"
   ]
  },
  {
   "cell_type": "code",
   "execution_count": 4,
   "id": "ee55736e",
   "metadata": {
    "vscode": {
     "languageId": "r"
    }
   },
   "outputs": [],
   "source": [
    "## Section: Load Data\n",
    "\n",
    "# Load the SiTH data as data.table\n",
    "sith <- fread(\"../_INPUTS_/pcawg_sith.tsv\", sep = \"\\t\")\n",
    "\n",
    "# Load the methylation data as data.table\n",
    "pcawg_methylation <- fread(\"../_INPUTS_/pcawg_methylation_long.tsv\", sep = \"\\t\")\n",
    "\n",
    "pcawg_methylation_long <- pcawg_methylation  # Already a data.table\n"
   ]
  },
  {
   "cell_type": "code",
   "execution_count": 5,
   "id": "bcbfc19e",
   "metadata": {
    "vscode": {
     "languageId": "r"
    }
   },
   "outputs": [],
   "source": [
    "## Section: Preprocess and Merge Data\n",
    "\n",
    "# Rename 'SampleId' to 'icgc_sample_id' to match the methylation data\n",
    "setnames(sith, \"SampleId\", \"icgc_sample_id\", skip_absent=TRUE)\n",
    "\n",
    "# Merge the methylation data with the SiTH data using data.table's merge\n",
    "merged_long_data <- merge(\n",
    "  pcawg_methylation_long,\n",
    "  sith,\n",
    "  by = \"icgc_sample_id\",\n",
    "  all = FALSE,\n",
    "  sort = FALSE\n",
    ")\n",
    "\n",
    "# Remove duplicates efficiently using data.table's unique and setkey\n",
    "setkey(merged_long_data, icgc_sample_id, \n",
    "       #icgc_specimen_id, \n",
    "       probe_id)\n",
    "merged_long_data <- unique(merged_long_data, by = key(merged_long_data))\n",
    "\n",
    "# Remove samples with missing SiTH scores\n",
    "merged_long_data <- merged_long_data[!is.na(SITH)]\n",
    "\n",
    "# Partition data into primary and non-primary samples using data.table's syntax\n",
    "primary_data <- merged_long_data[sample_type == \"primary\", ]\n",
    "non_primary_data <- merged_long_data[sample_type != \"primary\", ]\n",
    "non_primary_data1 <- merged_long_data[sample_type != \"primary\", ]\n"
   ]
  },
  {
   "cell_type": "code",
   "execution_count": 7,
   "id": "797617c4",
   "metadata": {
    "vscode": {
     "languageId": "r"
    }
   },
   "outputs": [],
   "source": [
    "## Section: Differential Analysis for Primary Samples\n",
    "\n",
    "### Define Groups and Create Sample Information\n",
    "\n",
    "# Define groups based on SITH score within 0.7-0.8 and outside using data.table\n",
    "primary_data[, SITH_Group := ifelse(SITH >= 0.7 & SITH <= 0.8, \"Within\", \"Outside\")]\n",
    "\n",
    "# Create a sample information table as data.table\n",
    "sample_info_primary <- unique(primary_data[, .(\n",
    "  icgc_sample_id,\n",
    "  SITH,\n",
    "  SITH_Group\n",
    ")])\n",
    "\n",
    "### Map Sample and Probe Identifiers to Indices\n",
    "\n",
    "# Create mappings for samples and probes to indices\n",
    "samples_primary <- sample_info_primary$icgc_sample_id\n",
    "probes <- unique(primary_data$probe_id)\n",
    "\n",
    "sample_indices_primary <- setNames(seq_along(samples_primary), samples_primary)\n",
    "probe_indices <- setNames(seq_along(probes), probes)\n",
    "\n",
    "# Map sample IDs and probe IDs to indices in primary_data\n",
    "primary_data[, `:=`(\n",
    "  sample_idx = sample_indices_primary[icgc_sample_id],\n",
    "  probe_idx = probe_indices[probe_id]\n",
    ")]\n",
    "\n",
    "### Create a Sparse Methylation Matrix\n",
    "\n",
    "methylation_matrix_primary <- sparseMatrix(\n",
    "  i = primary_data$probe_idx,\n",
    "  j = primary_data$sample_idx,\n",
    "  x = primary_data$methylation_value,\n",
    "  dims = c(length(probes), length(samples_primary)),\n",
    "  dimnames = list(probes, samples_primary)\n",
    ")\n",
    "\n",
    "# Ensure sample_info_primary is in the same order as columns in methylation_matrix_primary\n",
    "sample_info_primary <- sample_info_primary[match(colnames(methylation_matrix_primary), sample_info_primary$icgc_sample_id)]\n",
    "\n",
    "### Prepare the Design Matrix and Contrast\n",
    "\n",
    "group_factor_primary <- factor(sample_info_primary$SITH_Group, levels = c(\"Outside\", \"Within\"))\n",
    "design_matrix_primary <- model.matrix(~0 + group_factor_primary)\n",
    "colnames(design_matrix_primary) <- levels(group_factor_primary)\n",
    "\n",
    "# Define contrast\n",
    "contrast_primary <- makeContrasts(Within_vs_Outside = Within - Outside, levels = design_matrix_primary)\n",
    "\n",
    "### Define and Run Differential Analysis Function for Primary Samples\n",
    "\n",
    "perform_differential_analysis <- function(methylation_matrix, design_matrix, contrast_matrix, label) {\n",
    "  # Fit the linear model\n",
    "  fit <- lmFit(methylation_matrix, design_matrix)\n",
    "  \n",
    "  # Apply contrasts\n",
    "  fit2 <- contrasts.fit(fit, contrast_matrix)\n",
    "  \n",
    "  # Apply empirical Bayes moderation\n",
    "  fit2 <- eBayes(fit2)\n",
    "  \n",
    "  # Extract top differentially methylated probes\n",
    "  tT <- topTable(\n",
    "    fit2,\n",
    "    adjust.method = \"fdr\",\n",
    "    sort.by = \"P\",\n",
    "    number = Inf\n",
    "  )\n",
    "  \n",
    "  # Convert to data.table\n",
    "  differential_results <- as.data.table(tT)\n",
    "  \n",
    "  # Write results to file\n",
    "  write.table(tT, file=paste0(\"../_OUTPUTS_/dif_res_\", label, \".csv\"), sep=\",\")\n",
    "  \n",
    "  return(differential_results)\n",
    "}\n",
    "\n",
    "# Perform differential methylation analysis for primary samples\n",
    "differential_results_primary <- perform_differential_analysis(\n",
    "  methylation_matrix = methylation_matrix_primary,\n",
    "  design_matrix = design_matrix_primary,\n",
    "  contrast_matrix = contrast_primary,\n",
    "  label = \"primary_window\"\n",
    ")\n"
   ]
  },
  {
   "cell_type": "code",
   "execution_count": 8,
   "id": "cc9e0fc6",
   "metadata": {
    "vscode": {
     "languageId": "r"
    }
   },
   "outputs": [
    {
     "name": "stderr",
     "output_type": "stream",
     "text": [
      "Warning message:\n",
      "\"Zero sample variances detected, have been offset away from zero\"\n"
     ]
    }
   ],
   "source": [
    "## Section: Differential Analysis for Non-Primary Samples (SITH as a Continuous Variable)\n",
    "\n",
    "### Prepare Sample Information and Map Indices\n",
    "\n",
    "# Create a sample information table as data.table\n",
    "sample_info_non_primary <- unique(non_primary_data[, .(\n",
    "  icgc_sample_id,\n",
    "  SITH\n",
    ")])\n",
    "\n",
    "# Create mappings for samples\n",
    "samples_non_primary <- sample_info_non_primary$icgc_sample_id\n",
    "\n",
    "sample_indices_non_primary <- setNames(seq_along(samples_non_primary), samples_non_primary)\n",
    "\n",
    "# Map sample IDs and probe IDs to indices in non_primary_data\n",
    "non_primary_data[, `:=`(\n",
    "  sample_idx = sample_indices_non_primary[icgc_sample_id],\n",
    "  probe_idx = probe_indices[probe_id]\n",
    ")]\n",
    "\n",
    "### Create a Sparse Methylation Matrix for Non-Primary Samples\n",
    "\n",
    "methylation_matrix_non_primary <- sparseMatrix(\n",
    "  i = non_primary_data$probe_idx,\n",
    "  j = non_primary_data$sample_idx,\n",
    "  x = non_primary_data$methylation_value,\n",
    "  dims = c(length(probes), length(samples_non_primary)),\n",
    "  dimnames = list(probes, samples_non_primary)\n",
    ")\n",
    "\n",
    "# Ensure sample_info_non_primary is in the same order as columns in methylation_matrix_non_primary\n",
    "sample_info_non_primary <- sample_info_non_primary[match(colnames(methylation_matrix_non_primary), sample_info_non_primary$icgc_sample_id)]\n",
    "\n",
    "### Prepare the Design Matrix (Continuous SITH)\n",
    "\n",
    "design_matrix_corr <- model.matrix(~ SITH, data = sample_info_non_primary)\n",
    "\n",
    "### Define and Run Differential Analysis Function for Continuous SITH\n",
    "\n",
    "perform_differential_analysis_continuous <- function(methylation_matrix, design_matrix, coef_index, label_pos, label_neg) {\n",
    "  # Fit the linear model\n",
    "  fit <- lmFit(methylation_matrix, design_matrix)\n",
    "  \n",
    "  # Apply empirical Bayes moderation\n",
    "  fit2 <- eBayes(fit)\n",
    "  \n",
    "  # Extract top differentially methylated probes\n",
    "  tT <- topTable(\n",
    "    fit2,\n",
    "    coef = coef_index,\n",
    "    adjust.method = \"fdr\",\n",
    "    sort.by = \"P\",\n",
    "    number = Inf\n",
    "  )\n",
    "  \n",
    "  # Convert to data.table\n",
    "  differential_results <- as.data.table(tT)\n",
    "  \n",
    "  # Save the positive correlations\n",
    "  differential_results_pos <- differential_results[logFC > 0]\n",
    "  \n",
    "  # Save the negative correlations\n",
    "  differential_results_neg <- differential_results[logFC < 0]\n",
    "  \n",
    "  write.table(tT, file=paste0(\"../_OUTPUTS_/dif_res_\", label_pos, \".csv\"), sep=\",\")\n",
    "  \n",
    "  return(list(pos = differential_results_pos, neg = differential_results_neg))\n",
    "}\n",
    "\n",
    "# Perform differential methylation analysis for non-primary samples with continuous SITH\n",
    "results_corr <- perform_differential_analysis_continuous(\n",
    "  methylation_matrix = methylation_matrix_non_primary,\n",
    "  design_matrix = design_matrix_corr,\n",
    "  coef_index = \"SITH\",\n",
    "  label_pos = \"corr_SITH\",\n",
    "  label_neg = \"inverse_corr_SITH\"\n",
    ")\n"
   ]
  },
  {
   "cell_type": "code",
   "execution_count": 9,
   "id": "80c461a9",
   "metadata": {
    "vscode": {
     "languageId": "r"
    }
   },
   "outputs": [
    {
     "name": "stderr",
     "output_type": "stream",
     "text": [
      "Warning message:\n",
      "\"Zero sample variances detected, have been offset away from zero\"\n"
     ]
    }
   ],
   "source": [
    "## Section: Differential Analysis for Non-Primary Samples (INT_IQR as a Continuous Variable)\n",
    "\n",
    "### Prepare Sample Information and Map Indices (Using INT_IQR)\n",
    "\n",
    "# Create a sample information table as data.table\n",
    "sample_info_non_primary1 <- unique(non_primary_data[, .(\n",
    "  icgc_sample_id,\n",
    "  INT_IQR\n",
    ")])\n",
    "\n",
    "# Create mappings for samples\n",
    "samples_non_primary1 <- sample_info_non_primary1$icgc_sample_id\n",
    "\n",
    "sample_indices_non_primary1 <- setNames(seq_along(samples_non_primary1), samples_non_primary1)\n",
    "\n",
    "# Map sample IDs and probe IDs to indices in non_primary_data\n",
    "non_primary_data1[, `:=`(\n",
    "  sample_idx = sample_indices_non_primary1[icgc_sample_id],\n",
    "  probe_idx = probe_indices[probe_id]\n",
    ")]\n",
    "\n",
    "### Create a Sparse Methylation Matrix for the INT_IQR Analysis\n",
    "\n",
    "methylation_matrix_non_primary1 <- sparseMatrix(\n",
    "  i = non_primary_data1$probe_idx,\n",
    "  j = non_primary_data1$sample_idx,\n",
    "  x = non_primary_data1$methylation_value,\n",
    "  dims = c(length(probes), length(samples_non_primary)),\n",
    "  dimnames = list(probes, samples_non_primary)\n",
    ")\n",
    "\n",
    "# Ensure sample_info_non_primary1 is in the same order as columns in methylation_matrix_non_primary1\n",
    "sample_info_non_primary1 <- sample_info_non_primary1[match(colnames(methylation_matrix_non_primary1), sample_info_non_primary1$icgc_sample_id)]\n",
    "\n",
    "### Prepare the Design Matrix (Continuous INT_IQR)\n",
    "\n",
    "design_matrix_corr1 <- model.matrix(~ INT_IQR, data = sample_info_non_primary1)\n",
    "\n",
    "### Define and Run Differential Analysis Function for Continuous INT_IQR\n",
    "\n",
    "perform_differential_analysis_continuous1 <- function(methylation_matrix, design_matrix, coef_index, label_pos, label_neg) {\n",
    "  # Fit the linear model\n",
    "  fit <- lmFit(methylation_matrix, design_matrix)\n",
    "  \n",
    "  # Apply empirical Bayes moderation\n",
    "  fit2 <- eBayes(fit)\n",
    "  \n",
    "  # Extract top differentially methylated probes\n",
    "  tT <- topTable(\n",
    "    fit2,\n",
    "    coef = coef_index,\n",
    "    adjust.method = \"fdr\",\n",
    "    sort.by = \"P\",\n",
    "    number = Inf\n",
    "  )\n",
    "  \n",
    "  # Convert to data.table\n",
    "  differential_results <- as.data.table(tT)\n",
    "  \n",
    "  # Save the positive correlations\n",
    "  differential_results_pos <- differential_results[logFC > 0]\n",
    "  \n",
    "  # Save the negative correlations\n",
    "  differential_results_neg <- differential_results[logFC < 0]\n",
    "  \n",
    "  write.table(tT, file=paste0(\"../_OUTPUTS_/dif_res_\", label_pos, \".csv\"), sep=\",\")\n",
    "  \n",
    "  return(list(pos = differential_results_pos, neg = differential_results_neg))\n",
    "}\n",
    "\n",
    "# Perform differential methylation analysis for non-primary samples with continuous INT_IQR\n",
    "results_corr1 <- perform_differential_analysis_continuous1(\n",
    "  methylation_matrix = methylation_matrix_non_primary1,\n",
    "  design_matrix = design_matrix_corr1,\n",
    "  coef_index = \"INT_IQR\",\n",
    "  label_pos = \"corr_INT_IQR\",\n",
    "  label_neg = \"inverse_corr_INT_IQR\"\n",
    ")\n"
   ]
  }
 ],
 "metadata": {
  "kernelspec": {
   "display_name": "R",
   "language": "R",
   "name": "ir"
  },
  "language_info": {
   "codemirror_mode": "r",
   "file_extension": ".r",
   "mimetype": "text/x-r-source",
   "name": "R",
   "pygments_lexer": "r",
   "version": "4.4.2"
  }
 },
 "nbformat": 4,
 "nbformat_minor": 5
}
