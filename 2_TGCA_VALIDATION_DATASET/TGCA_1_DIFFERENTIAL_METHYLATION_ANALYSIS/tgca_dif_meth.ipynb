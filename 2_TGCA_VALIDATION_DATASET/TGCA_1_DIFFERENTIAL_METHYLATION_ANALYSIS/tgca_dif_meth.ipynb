{
 "cells": [
  {
   "cell_type": "markdown",
   "id": "4f2a9adc",
   "metadata": {},
   "source": [
    "# Differential Methylation Analysis Notebook\n",
    "\n",
    "This notebook performs a series of data import, preprocessing, and differential methylation analyses. The analysis consists of:\n",
    "\n",
    "- Installing and loading necessary packages\n",
    "- Loading the data (SiTH and methylation data)\n",
    "- Merging datasets and removing duplicates\n",
    "- Differential analysis for primary samples (grouped by SITH value levels)\n",
    "- Differential analysis for non-primary samples with SITH as a continuous variable\n",
    "- Differential analysis for non-primary samples with INT_IQR as a continuous variable\n"
   ]
  },
  {
   "cell_type": "code",
   "execution_count": 1,
   "id": "7d40f91a",
   "metadata": {
    "vscode": {
     "languageId": "r"
    }
   },
   "outputs": [
    {
     "name": "stderr",
     "output_type": "stream",
     "text": [
      "'getOption(\"repos\")' replaces Bioconductor standard repositories, see\n",
      "'help(\"repositories\", package = \"BiocManager\")' for details.\n",
      "Replacement repositories:\n",
      "    CRAN: https://cran.r-project.org\n",
      "\n",
      "Bioconductor version 3.20 (BiocManager 1.30.25), R 4.4.2 (2024-10-31)\n",
      "\n",
      "Old packages: 'KernSmooth', 'MASS', 'Matrix', 'class', 'cluster', 'foreign',\n",
      "  'nnet', 'rlang', 'rpart', 'spatial', 'survival'\n",
      "\n"
     ]
    }
   ],
   "source": [
    "## Section: Install Necessary Packages\n",
    "\n",
    "if (!require(\"BiocManager\", quietly = TRUE))\n",
    "  install.packages(\"BiocManager\")\n",
    "BiocManager::install(version = \"3.20\")\n"
   ]
  },
  {
   "cell_type": "code",
   "execution_count": 2,
   "id": "81ad1201",
   "metadata": {
    "vscode": {
     "languageId": "r"
    }
   },
   "outputs": [
    {
     "name": "stderr",
     "output_type": "stream",
     "text": [
      "'getOption(\"repos\")' replaces Bioconductor standard repositories, see\n",
      "'help(\"repositories\", package = \"BiocManager\")' for details.\n",
      "Replacement repositories:\n",
      "    CRAN: https://cran.r-project.org\n",
      "\n",
      "Bioconductor version 3.20 (BiocManager 1.30.25), R 4.4.2 (2024-10-31)\n",
      "\n",
      "Warning message:\n",
      "\"package(s) not installed when version(s) same as or greater than current; use\n",
      "  `force = TRUE` to re-install: 'limma'\"\n",
      "Old packages: 'KernSmooth', 'MASS', 'Matrix', 'class', 'cluster', 'foreign',\n",
      "  'nnet', 'rlang', 'rpart', 'spatial', 'survival'\n",
      "\n"
     ]
    }
   ],
   "source": [
    "BiocManager::install(c(\"limma\"))"
   ]
  },
  {
   "cell_type": "code",
   "execution_count": 2,
   "id": "6906ce3e",
   "metadata": {
    "vscode": {
     "languageId": "r"
    }
   },
   "outputs": [],
   "source": [
    "## Section: Load Libraries and Set Threading Options\n",
    "\n",
    "library(data.table)\n",
    "library(limma)\n",
    "library(parallel)\n",
    "library(Matrix)\n",
    "library(RhpcBLASctl)\n",
    "\n",
    "# Set the number of threads for BLAS operations and data.table\n",
    "num_cores <- detectCores()\n",
    "blas_set_num_threads(num_cores)\n",
    "setDTthreads(threads = num_cores)\n"
   ]
  },
  {
   "cell_type": "code",
   "execution_count": 3,
   "id": "ee55736e",
   "metadata": {
    "vscode": {
     "languageId": "r"
    }
   },
   "outputs": [],
   "source": [
    "## Section: Load Data\n",
    "\n",
    "# Load the SiTH data as data.table\n",
    "sith <- fread(\"../_INPUTS_/tcga_sith_data.csv\")\n",
    "\n",
    "# Load the methylation data as data.table\n",
    "tgca_methylation_long <- fread(\"../_INPUTS_/tgca_methylation_data_long.tsv\", sep = \"\\t\")\n",
    "\n",
    "# trim sith\n",
    "needed_cols_sith <- c(\"bcrSID\", \"SITH\", \"INT_SITH_IQR\", \"sample_type\")\n",
    "sith_small <- sith[, ..needed_cols_sith]\n"
   ]
  },
  {
   "cell_type": "code",
   "execution_count": 4,
   "id": "6690ace9",
   "metadata": {
    "vscode": {
     "languageId": "r"
    }
   },
   "outputs": [
    {
     "data": {
      "text/html": [
       "<table class=\"dataframe\">\n",
       "<caption>A data.table: 749 x 4</caption>\n",
       "<thead>\n",
       "\t<tr><th scope=col>bcrSID</th><th scope=col>SITH</th><th scope=col>INT_SITH_IQR</th><th scope=col>sample_type</th></tr>\n",
       "\t<tr><th scope=col>&lt;chr&gt;</th><th scope=col>&lt;dbl&gt;</th><th scope=col>&lt;dbl&gt;</th><th scope=col>&lt;chr&gt;</th></tr>\n",
       "</thead>\n",
       "<tbody>\n",
       "\t<tr><td>TCGA-04-1331-01A</td><td>0.4159971</td><td>0.2837013</td><td>Primary Tumor  </td></tr>\n",
       "\t<tr><td>TCGA-04-1347-01A</td><td>0.4082799</td><td>0.3352632</td><td>Primary Tumor  </td></tr>\n",
       "\t<tr><td>TCGA-04-1349-01A</td><td>0.4813731</td><td>0.2461653</td><td>Primary Tumor  </td></tr>\n",
       "\t<tr><td>TCGA-04-1367-01A</td><td>0.4216116</td><td>0.2603055</td><td>Primary Tumor  </td></tr>\n",
       "\t<tr><td>TCGA-04-1371-01A</td><td>0.7193421</td><td>0.3691282</td><td>Primary Tumor  </td></tr>\n",
       "\t<tr><td>TCGA-04-1514-01A</td><td>0.4840612</td><td>0.2573066</td><td>Primary Tumor  </td></tr>\n",
       "\t<tr><td>TCGA-04-1542-01A</td><td>0.4468653</td><td>0.2967422</td><td>Primary Tumor  </td></tr>\n",
       "\t<tr><td>TCGA-05-4389-01A</td><td>0.4082517</td><td>0.3583791</td><td>Primary Tumor  </td></tr>\n",
       "\t<tr><td>TCGA-05-4395-01A</td><td>0.3669680</td><td>0.3638799</td><td>Primary Tumor  </td></tr>\n",
       "\t<tr><td>TCGA-05-4396-01A</td><td>0.3646704</td><td>0.3277849</td><td>Primary Tumor  </td></tr>\n",
       "\t<tr><td>TCGA-05-4397-01A</td><td>0.3253811</td><td>0.3296979</td><td>Primary Tumor  </td></tr>\n",
       "\t<tr><td>TCGA-05-4420-01A</td><td>0.3303400</td><td>0.2627211</td><td>Primary Tumor  </td></tr>\n",
       "\t<tr><td>TCGA-05-4432-01A</td><td>0.3516551</td><td>0.3633112</td><td>Primary Tumor  </td></tr>\n",
       "\t<tr><td>TCGA-05-5429-01A</td><td>0.6721522</td><td>0.2020331</td><td>Primary Tumor  </td></tr>\n",
       "\t<tr><td>TCGA-06-0125-02A</td><td>0.4420425</td><td>0.2765539</td><td>Recurrent Tumor</td></tr>\n",
       "\t<tr><td>TCGA-06-0152-01A</td><td>0.4039204</td><td>0.3029795</td><td>Primary Tumor  </td></tr>\n",
       "\t<tr><td>TCGA-06-0155-01B</td><td>0.5058513</td><td>0.3504818</td><td>Primary Tumor  </td></tr>\n",
       "\t<tr><td>TCGA-06-0171-01A</td><td>0.5149562</td><td>0.2453695</td><td>Primary Tumor  </td></tr>\n",
       "\t<tr><td>TCGA-06-0190-02A</td><td>0.4744286</td><td>0.2875153</td><td>Recurrent Tumor</td></tr>\n",
       "\t<tr><td>TCGA-06-0210-02A</td><td>0.4419884</td><td>0.2792304</td><td>Recurrent Tumor</td></tr>\n",
       "\t<tr><td>TCGA-06-0211-02A</td><td>0.4664193</td><td>0.3053258</td><td>Recurrent Tumor</td></tr>\n",
       "\t<tr><td>TCGA-06-0214-01A</td><td>0.5278449</td><td>0.2958877</td><td>Primary Tumor  </td></tr>\n",
       "\t<tr><td>TCGA-06-0648-01A</td><td>0.4760540</td><td>0.3393878</td><td>Primary Tumor  </td></tr>\n",
       "\t<tr><td>TCGA-06-0686-01A</td><td>0.5308899</td><td>0.2763796</td><td>Primary Tumor  </td></tr>\n",
       "\t<tr><td>TCGA-06-0877-01A</td><td>0.6894775</td><td>0.2992394</td><td>Primary Tumor  </td></tr>\n",
       "\t<tr><td>TCGA-06-0881-01A</td><td>0.7377237</td><td>0.2219752</td><td>Primary Tumor  </td></tr>\n",
       "\t<tr><td>TCGA-06-1086-01A</td><td>0.5691930</td><td>0.2738596</td><td>Primary Tumor  </td></tr>\n",
       "\t<tr><td>TCGA-06-5411-01A</td><td>0.5501414</td><td>0.2474390</td><td>Primary Tumor  </td></tr>\n",
       "\t<tr><td>TCGA-09-1666-01A</td><td>0.4962291</td><td>0.2593805</td><td>Primary Tumor  </td></tr>\n",
       "\t<tr><td>TCGA-09-2045-01A</td><td>0.4999353</td><td>0.2629626</td><td>Primary Tumor  </td></tr>\n",
       "\t<tr><td>...</td><td>...</td><td>...</td><td>...</td></tr>\n",
       "\t<tr><td>TCGA-KN-8424-01A</td><td>0.5303362</td><td>0.2712639</td><td>Primary Tumor</td></tr>\n",
       "\t<tr><td>TCGA-KN-8425-01A</td><td>0.5783406</td><td>0.2044254</td><td>Primary Tumor</td></tr>\n",
       "\t<tr><td>TCGA-KN-8426-01A</td><td>0.5895559</td><td>0.2655509</td><td>Primary Tumor</td></tr>\n",
       "\t<tr><td>TCGA-KN-8427-01A</td><td>0.4298347</td><td>0.2860853</td><td>Primary Tumor</td></tr>\n",
       "\t<tr><td>TCGA-KN-8428-01A</td><td>0.3316264</td><td>0.2958852</td><td>Primary Tumor</td></tr>\n",
       "\t<tr><td>TCGA-KN-8429-01A</td><td>0.5555754</td><td>0.2835783</td><td>Primary Tumor</td></tr>\n",
       "\t<tr><td>TCGA-KN-8430-01A</td><td>0.5848464</td><td>0.2559962</td><td>Primary Tumor</td></tr>\n",
       "\t<tr><td>TCGA-KN-8431-01A</td><td>0.5701160</td><td>0.2768119</td><td>Primary Tumor</td></tr>\n",
       "\t<tr><td>TCGA-KN-8432-01A</td><td>0.5840975</td><td>0.2253678</td><td>Primary Tumor</td></tr>\n",
       "\t<tr><td>TCGA-KN-8434-01A</td><td>0.5179642</td><td>0.2337496</td><td>Primary Tumor</td></tr>\n",
       "\t<tr><td>TCGA-KN-8435-01A</td><td>0.5691711</td><td>0.2362544</td><td>Primary Tumor</td></tr>\n",
       "\t<tr><td>TCGA-KN-8437-01A</td><td>0.6070620</td><td>0.2747628</td><td>Primary Tumor</td></tr>\n",
       "\t<tr><td>TCGA-KO-8405-01A</td><td>0.5913556</td><td>0.2528425</td><td>Primary Tumor</td></tr>\n",
       "\t<tr><td>TCGA-KO-8406-01A</td><td>0.5204184</td><td>0.2964908</td><td>Primary Tumor</td></tr>\n",
       "\t<tr><td>TCGA-KO-8407-01A</td><td>0.5942669</td><td>0.2774424</td><td>Primary Tumor</td></tr>\n",
       "\t<tr><td>TCGA-KO-8409-01A</td><td>0.5974420</td><td>0.3003248</td><td>Primary Tumor</td></tr>\n",
       "\t<tr><td>TCGA-KO-8410-01A</td><td>0.5830102</td><td>0.2585884</td><td>Primary Tumor</td></tr>\n",
       "\t<tr><td>TCGA-KO-8411-01A</td><td>0.5392721</td><td>0.2818662</td><td>Primary Tumor</td></tr>\n",
       "\t<tr><td>TCGA-KO-8416-01A</td><td>0.5917256</td><td>0.3079201</td><td>Primary Tumor</td></tr>\n",
       "\t<tr><td>TCGA-KO-8417-01A</td><td>0.5274718</td><td>0.2857679</td><td>Primary Tumor</td></tr>\n",
       "\t<tr><td>TCGA-L6-A4ET-01A</td><td>0.6137129</td><td>0.2413188</td><td>Primary Tumor</td></tr>\n",
       "\t<tr><td>TCGA-MH-A560-01A</td><td>0.4640669</td><td>0.2516705</td><td>Primary Tumor</td></tr>\n",
       "\t<tr><td>TCGA-MR-A520-01A</td><td>0.6064201</td><td>0.2188684</td><td>Primary Tumor</td></tr>\n",
       "\t<tr><td>TCGA-NH-A50T-01A</td><td>0.3490023</td><td>0.3084094</td><td>Primary Tumor</td></tr>\n",
       "\t<tr><td>TCGA-NH-A50V-01A</td><td>0.3071601</td><td>0.2707328</td><td>Primary Tumor</td></tr>\n",
       "\t<tr><td>TCGA-QG-A5YV-01A</td><td>0.3225338</td><td>0.2784844</td><td>Primary Tumor</td></tr>\n",
       "\t<tr><td>TCGA-QG-A5YW-01A</td><td>0.2973438</td><td>0.2354677</td><td>Primary Tumor</td></tr>\n",
       "\t<tr><td>TCGA-QG-A5YX-01A</td><td>0.4260945</td><td>0.3101755</td><td>Primary Tumor</td></tr>\n",
       "\t<tr><td>TCGA-QG-A5Z1-01A</td><td>0.4063771</td><td>0.3163699</td><td>Primary Tumor</td></tr>\n",
       "\t<tr><td>TCGA-QG-A5Z2-01A</td><td>0.1600003</td><td>0.2013508</td><td>Primary Tumor</td></tr>\n",
       "</tbody>\n",
       "</table>\n"
      ],
      "text/latex": [
       "A data.table: 749 x 4\n",
       "\\begin{tabular}{llll}\n",
       " bcrSID & SITH & INT\\_SITH\\_IQR & sample\\_type\\\\\n",
       " <chr> & <dbl> & <dbl> & <chr>\\\\\n",
       "\\hline\n",
       "\t TCGA-04-1331-01A & 0.4159971 & 0.2837013 & Primary Tumor  \\\\\n",
       "\t TCGA-04-1347-01A & 0.4082799 & 0.3352632 & Primary Tumor  \\\\\n",
       "\t TCGA-04-1349-01A & 0.4813731 & 0.2461653 & Primary Tumor  \\\\\n",
       "\t TCGA-04-1367-01A & 0.4216116 & 0.2603055 & Primary Tumor  \\\\\n",
       "\t TCGA-04-1371-01A & 0.7193421 & 0.3691282 & Primary Tumor  \\\\\n",
       "\t TCGA-04-1514-01A & 0.4840612 & 0.2573066 & Primary Tumor  \\\\\n",
       "\t TCGA-04-1542-01A & 0.4468653 & 0.2967422 & Primary Tumor  \\\\\n",
       "\t TCGA-05-4389-01A & 0.4082517 & 0.3583791 & Primary Tumor  \\\\\n",
       "\t TCGA-05-4395-01A & 0.3669680 & 0.3638799 & Primary Tumor  \\\\\n",
       "\t TCGA-05-4396-01A & 0.3646704 & 0.3277849 & Primary Tumor  \\\\\n",
       "\t TCGA-05-4397-01A & 0.3253811 & 0.3296979 & Primary Tumor  \\\\\n",
       "\t TCGA-05-4420-01A & 0.3303400 & 0.2627211 & Primary Tumor  \\\\\n",
       "\t TCGA-05-4432-01A & 0.3516551 & 0.3633112 & Primary Tumor  \\\\\n",
       "\t TCGA-05-5429-01A & 0.6721522 & 0.2020331 & Primary Tumor  \\\\\n",
       "\t TCGA-06-0125-02A & 0.4420425 & 0.2765539 & Recurrent Tumor\\\\\n",
       "\t TCGA-06-0152-01A & 0.4039204 & 0.3029795 & Primary Tumor  \\\\\n",
       "\t TCGA-06-0155-01B & 0.5058513 & 0.3504818 & Primary Tumor  \\\\\n",
       "\t TCGA-06-0171-01A & 0.5149562 & 0.2453695 & Primary Tumor  \\\\\n",
       "\t TCGA-06-0190-02A & 0.4744286 & 0.2875153 & Recurrent Tumor\\\\\n",
       "\t TCGA-06-0210-02A & 0.4419884 & 0.2792304 & Recurrent Tumor\\\\\n",
       "\t TCGA-06-0211-02A & 0.4664193 & 0.3053258 & Recurrent Tumor\\\\\n",
       "\t TCGA-06-0214-01A & 0.5278449 & 0.2958877 & Primary Tumor  \\\\\n",
       "\t TCGA-06-0648-01A & 0.4760540 & 0.3393878 & Primary Tumor  \\\\\n",
       "\t TCGA-06-0686-01A & 0.5308899 & 0.2763796 & Primary Tumor  \\\\\n",
       "\t TCGA-06-0877-01A & 0.6894775 & 0.2992394 & Primary Tumor  \\\\\n",
       "\t TCGA-06-0881-01A & 0.7377237 & 0.2219752 & Primary Tumor  \\\\\n",
       "\t TCGA-06-1086-01A & 0.5691930 & 0.2738596 & Primary Tumor  \\\\\n",
       "\t TCGA-06-5411-01A & 0.5501414 & 0.2474390 & Primary Tumor  \\\\\n",
       "\t TCGA-09-1666-01A & 0.4962291 & 0.2593805 & Primary Tumor  \\\\\n",
       "\t TCGA-09-2045-01A & 0.4999353 & 0.2629626 & Primary Tumor  \\\\\n",
       "\t ... & ... & ... & ...\\\\\n",
       "\t TCGA-KN-8424-01A & 0.5303362 & 0.2712639 & Primary Tumor\\\\\n",
       "\t TCGA-KN-8425-01A & 0.5783406 & 0.2044254 & Primary Tumor\\\\\n",
       "\t TCGA-KN-8426-01A & 0.5895559 & 0.2655509 & Primary Tumor\\\\\n",
       "\t TCGA-KN-8427-01A & 0.4298347 & 0.2860853 & Primary Tumor\\\\\n",
       "\t TCGA-KN-8428-01A & 0.3316264 & 0.2958852 & Primary Tumor\\\\\n",
       "\t TCGA-KN-8429-01A & 0.5555754 & 0.2835783 & Primary Tumor\\\\\n",
       "\t TCGA-KN-8430-01A & 0.5848464 & 0.2559962 & Primary Tumor\\\\\n",
       "\t TCGA-KN-8431-01A & 0.5701160 & 0.2768119 & Primary Tumor\\\\\n",
       "\t TCGA-KN-8432-01A & 0.5840975 & 0.2253678 & Primary Tumor\\\\\n",
       "\t TCGA-KN-8434-01A & 0.5179642 & 0.2337496 & Primary Tumor\\\\\n",
       "\t TCGA-KN-8435-01A & 0.5691711 & 0.2362544 & Primary Tumor\\\\\n",
       "\t TCGA-KN-8437-01A & 0.6070620 & 0.2747628 & Primary Tumor\\\\\n",
       "\t TCGA-KO-8405-01A & 0.5913556 & 0.2528425 & Primary Tumor\\\\\n",
       "\t TCGA-KO-8406-01A & 0.5204184 & 0.2964908 & Primary Tumor\\\\\n",
       "\t TCGA-KO-8407-01A & 0.5942669 & 0.2774424 & Primary Tumor\\\\\n",
       "\t TCGA-KO-8409-01A & 0.5974420 & 0.3003248 & Primary Tumor\\\\\n",
       "\t TCGA-KO-8410-01A & 0.5830102 & 0.2585884 & Primary Tumor\\\\\n",
       "\t TCGA-KO-8411-01A & 0.5392721 & 0.2818662 & Primary Tumor\\\\\n",
       "\t TCGA-KO-8416-01A & 0.5917256 & 0.3079201 & Primary Tumor\\\\\n",
       "\t TCGA-KO-8417-01A & 0.5274718 & 0.2857679 & Primary Tumor\\\\\n",
       "\t TCGA-L6-A4ET-01A & 0.6137129 & 0.2413188 & Primary Tumor\\\\\n",
       "\t TCGA-MH-A560-01A & 0.4640669 & 0.2516705 & Primary Tumor\\\\\n",
       "\t TCGA-MR-A520-01A & 0.6064201 & 0.2188684 & Primary Tumor\\\\\n",
       "\t TCGA-NH-A50T-01A & 0.3490023 & 0.3084094 & Primary Tumor\\\\\n",
       "\t TCGA-NH-A50V-01A & 0.3071601 & 0.2707328 & Primary Tumor\\\\\n",
       "\t TCGA-QG-A5YV-01A & 0.3225338 & 0.2784844 & Primary Tumor\\\\\n",
       "\t TCGA-QG-A5YW-01A & 0.2973438 & 0.2354677 & Primary Tumor\\\\\n",
       "\t TCGA-QG-A5YX-01A & 0.4260945 & 0.3101755 & Primary Tumor\\\\\n",
       "\t TCGA-QG-A5Z1-01A & 0.4063771 & 0.3163699 & Primary Tumor\\\\\n",
       "\t TCGA-QG-A5Z2-01A & 0.1600003 & 0.2013508 & Primary Tumor\\\\\n",
       "\\end{tabular}\n"
      ],
      "text/markdown": [
       "\n",
       "A data.table: 749 x 4\n",
       "\n",
       "| bcrSID &lt;chr&gt; | SITH &lt;dbl&gt; | INT_SITH_IQR &lt;dbl&gt; | sample_type &lt;chr&gt; |\n",
       "|---|---|---|---|\n",
       "| TCGA-04-1331-01A | 0.4159971 | 0.2837013 | Primary Tumor   |\n",
       "| TCGA-04-1347-01A | 0.4082799 | 0.3352632 | Primary Tumor   |\n",
       "| TCGA-04-1349-01A | 0.4813731 | 0.2461653 | Primary Tumor   |\n",
       "| TCGA-04-1367-01A | 0.4216116 | 0.2603055 | Primary Tumor   |\n",
       "| TCGA-04-1371-01A | 0.7193421 | 0.3691282 | Primary Tumor   |\n",
       "| TCGA-04-1514-01A | 0.4840612 | 0.2573066 | Primary Tumor   |\n",
       "| TCGA-04-1542-01A | 0.4468653 | 0.2967422 | Primary Tumor   |\n",
       "| TCGA-05-4389-01A | 0.4082517 | 0.3583791 | Primary Tumor   |\n",
       "| TCGA-05-4395-01A | 0.3669680 | 0.3638799 | Primary Tumor   |\n",
       "| TCGA-05-4396-01A | 0.3646704 | 0.3277849 | Primary Tumor   |\n",
       "| TCGA-05-4397-01A | 0.3253811 | 0.3296979 | Primary Tumor   |\n",
       "| TCGA-05-4420-01A | 0.3303400 | 0.2627211 | Primary Tumor   |\n",
       "| TCGA-05-4432-01A | 0.3516551 | 0.3633112 | Primary Tumor   |\n",
       "| TCGA-05-5429-01A | 0.6721522 | 0.2020331 | Primary Tumor   |\n",
       "| TCGA-06-0125-02A | 0.4420425 | 0.2765539 | Recurrent Tumor |\n",
       "| TCGA-06-0152-01A | 0.4039204 | 0.3029795 | Primary Tumor   |\n",
       "| TCGA-06-0155-01B | 0.5058513 | 0.3504818 | Primary Tumor   |\n",
       "| TCGA-06-0171-01A | 0.5149562 | 0.2453695 | Primary Tumor   |\n",
       "| TCGA-06-0190-02A | 0.4744286 | 0.2875153 | Recurrent Tumor |\n",
       "| TCGA-06-0210-02A | 0.4419884 | 0.2792304 | Recurrent Tumor |\n",
       "| TCGA-06-0211-02A | 0.4664193 | 0.3053258 | Recurrent Tumor |\n",
       "| TCGA-06-0214-01A | 0.5278449 | 0.2958877 | Primary Tumor   |\n",
       "| TCGA-06-0648-01A | 0.4760540 | 0.3393878 | Primary Tumor   |\n",
       "| TCGA-06-0686-01A | 0.5308899 | 0.2763796 | Primary Tumor   |\n",
       "| TCGA-06-0877-01A | 0.6894775 | 0.2992394 | Primary Tumor   |\n",
       "| TCGA-06-0881-01A | 0.7377237 | 0.2219752 | Primary Tumor   |\n",
       "| TCGA-06-1086-01A | 0.5691930 | 0.2738596 | Primary Tumor   |\n",
       "| TCGA-06-5411-01A | 0.5501414 | 0.2474390 | Primary Tumor   |\n",
       "| TCGA-09-1666-01A | 0.4962291 | 0.2593805 | Primary Tumor   |\n",
       "| TCGA-09-2045-01A | 0.4999353 | 0.2629626 | Primary Tumor   |\n",
       "| ... | ... | ... | ... |\n",
       "| TCGA-KN-8424-01A | 0.5303362 | 0.2712639 | Primary Tumor |\n",
       "| TCGA-KN-8425-01A | 0.5783406 | 0.2044254 | Primary Tumor |\n",
       "| TCGA-KN-8426-01A | 0.5895559 | 0.2655509 | Primary Tumor |\n",
       "| TCGA-KN-8427-01A | 0.4298347 | 0.2860853 | Primary Tumor |\n",
       "| TCGA-KN-8428-01A | 0.3316264 | 0.2958852 | Primary Tumor |\n",
       "| TCGA-KN-8429-01A | 0.5555754 | 0.2835783 | Primary Tumor |\n",
       "| TCGA-KN-8430-01A | 0.5848464 | 0.2559962 | Primary Tumor |\n",
       "| TCGA-KN-8431-01A | 0.5701160 | 0.2768119 | Primary Tumor |\n",
       "| TCGA-KN-8432-01A | 0.5840975 | 0.2253678 | Primary Tumor |\n",
       "| TCGA-KN-8434-01A | 0.5179642 | 0.2337496 | Primary Tumor |\n",
       "| TCGA-KN-8435-01A | 0.5691711 | 0.2362544 | Primary Tumor |\n",
       "| TCGA-KN-8437-01A | 0.6070620 | 0.2747628 | Primary Tumor |\n",
       "| TCGA-KO-8405-01A | 0.5913556 | 0.2528425 | Primary Tumor |\n",
       "| TCGA-KO-8406-01A | 0.5204184 | 0.2964908 | Primary Tumor |\n",
       "| TCGA-KO-8407-01A | 0.5942669 | 0.2774424 | Primary Tumor |\n",
       "| TCGA-KO-8409-01A | 0.5974420 | 0.3003248 | Primary Tumor |\n",
       "| TCGA-KO-8410-01A | 0.5830102 | 0.2585884 | Primary Tumor |\n",
       "| TCGA-KO-8411-01A | 0.5392721 | 0.2818662 | Primary Tumor |\n",
       "| TCGA-KO-8416-01A | 0.5917256 | 0.3079201 | Primary Tumor |\n",
       "| TCGA-KO-8417-01A | 0.5274718 | 0.2857679 | Primary Tumor |\n",
       "| TCGA-L6-A4ET-01A | 0.6137129 | 0.2413188 | Primary Tumor |\n",
       "| TCGA-MH-A560-01A | 0.4640669 | 0.2516705 | Primary Tumor |\n",
       "| TCGA-MR-A520-01A | 0.6064201 | 0.2188684 | Primary Tumor |\n",
       "| TCGA-NH-A50T-01A | 0.3490023 | 0.3084094 | Primary Tumor |\n",
       "| TCGA-NH-A50V-01A | 0.3071601 | 0.2707328 | Primary Tumor |\n",
       "| TCGA-QG-A5YV-01A | 0.3225338 | 0.2784844 | Primary Tumor |\n",
       "| TCGA-QG-A5YW-01A | 0.2973438 | 0.2354677 | Primary Tumor |\n",
       "| TCGA-QG-A5YX-01A | 0.4260945 | 0.3101755 | Primary Tumor |\n",
       "| TCGA-QG-A5Z1-01A | 0.4063771 | 0.3163699 | Primary Tumor |\n",
       "| TCGA-QG-A5Z2-01A | 0.1600003 | 0.2013508 | Primary Tumor |\n",
       "\n"
      ],
      "text/plain": [
       "    bcrSID           SITH      INT_SITH_IQR sample_type    \n",
       "1   TCGA-04-1331-01A 0.4159971 0.2837013    Primary Tumor  \n",
       "2   TCGA-04-1347-01A 0.4082799 0.3352632    Primary Tumor  \n",
       "3   TCGA-04-1349-01A 0.4813731 0.2461653    Primary Tumor  \n",
       "4   TCGA-04-1367-01A 0.4216116 0.2603055    Primary Tumor  \n",
       "5   TCGA-04-1371-01A 0.7193421 0.3691282    Primary Tumor  \n",
       "6   TCGA-04-1514-01A 0.4840612 0.2573066    Primary Tumor  \n",
       "7   TCGA-04-1542-01A 0.4468653 0.2967422    Primary Tumor  \n",
       "8   TCGA-05-4389-01A 0.4082517 0.3583791    Primary Tumor  \n",
       "9   TCGA-05-4395-01A 0.3669680 0.3638799    Primary Tumor  \n",
       "10  TCGA-05-4396-01A 0.3646704 0.3277849    Primary Tumor  \n",
       "11  TCGA-05-4397-01A 0.3253811 0.3296979    Primary Tumor  \n",
       "12  TCGA-05-4420-01A 0.3303400 0.2627211    Primary Tumor  \n",
       "13  TCGA-05-4432-01A 0.3516551 0.3633112    Primary Tumor  \n",
       "14  TCGA-05-5429-01A 0.6721522 0.2020331    Primary Tumor  \n",
       "15  TCGA-06-0125-02A 0.4420425 0.2765539    Recurrent Tumor\n",
       "16  TCGA-06-0152-01A 0.4039204 0.3029795    Primary Tumor  \n",
       "17  TCGA-06-0155-01B 0.5058513 0.3504818    Primary Tumor  \n",
       "18  TCGA-06-0171-01A 0.5149562 0.2453695    Primary Tumor  \n",
       "19  TCGA-06-0190-02A 0.4744286 0.2875153    Recurrent Tumor\n",
       "20  TCGA-06-0210-02A 0.4419884 0.2792304    Recurrent Tumor\n",
       "21  TCGA-06-0211-02A 0.4664193 0.3053258    Recurrent Tumor\n",
       "22  TCGA-06-0214-01A 0.5278449 0.2958877    Primary Tumor  \n",
       "23  TCGA-06-0648-01A 0.4760540 0.3393878    Primary Tumor  \n",
       "24  TCGA-06-0686-01A 0.5308899 0.2763796    Primary Tumor  \n",
       "25  TCGA-06-0877-01A 0.6894775 0.2992394    Primary Tumor  \n",
       "26  TCGA-06-0881-01A 0.7377237 0.2219752    Primary Tumor  \n",
       "27  TCGA-06-1086-01A 0.5691930 0.2738596    Primary Tumor  \n",
       "28  TCGA-06-5411-01A 0.5501414 0.2474390    Primary Tumor  \n",
       "29  TCGA-09-1666-01A 0.4962291 0.2593805    Primary Tumor  \n",
       "30  TCGA-09-2045-01A 0.4999353 0.2629626    Primary Tumor  \n",
       "... ...              ...       ...          ...            \n",
       "720 TCGA-KN-8424-01A 0.5303362 0.2712639    Primary Tumor  \n",
       "721 TCGA-KN-8425-01A 0.5783406 0.2044254    Primary Tumor  \n",
       "722 TCGA-KN-8426-01A 0.5895559 0.2655509    Primary Tumor  \n",
       "723 TCGA-KN-8427-01A 0.4298347 0.2860853    Primary Tumor  \n",
       "724 TCGA-KN-8428-01A 0.3316264 0.2958852    Primary Tumor  \n",
       "725 TCGA-KN-8429-01A 0.5555754 0.2835783    Primary Tumor  \n",
       "726 TCGA-KN-8430-01A 0.5848464 0.2559962    Primary Tumor  \n",
       "727 TCGA-KN-8431-01A 0.5701160 0.2768119    Primary Tumor  \n",
       "728 TCGA-KN-8432-01A 0.5840975 0.2253678    Primary Tumor  \n",
       "729 TCGA-KN-8434-01A 0.5179642 0.2337496    Primary Tumor  \n",
       "730 TCGA-KN-8435-01A 0.5691711 0.2362544    Primary Tumor  \n",
       "731 TCGA-KN-8437-01A 0.6070620 0.2747628    Primary Tumor  \n",
       "732 TCGA-KO-8405-01A 0.5913556 0.2528425    Primary Tumor  \n",
       "733 TCGA-KO-8406-01A 0.5204184 0.2964908    Primary Tumor  \n",
       "734 TCGA-KO-8407-01A 0.5942669 0.2774424    Primary Tumor  \n",
       "735 TCGA-KO-8409-01A 0.5974420 0.3003248    Primary Tumor  \n",
       "736 TCGA-KO-8410-01A 0.5830102 0.2585884    Primary Tumor  \n",
       "737 TCGA-KO-8411-01A 0.5392721 0.2818662    Primary Tumor  \n",
       "738 TCGA-KO-8416-01A 0.5917256 0.3079201    Primary Tumor  \n",
       "739 TCGA-KO-8417-01A 0.5274718 0.2857679    Primary Tumor  \n",
       "740 TCGA-L6-A4ET-01A 0.6137129 0.2413188    Primary Tumor  \n",
       "741 TCGA-MH-A560-01A 0.4640669 0.2516705    Primary Tumor  \n",
       "742 TCGA-MR-A520-01A 0.6064201 0.2188684    Primary Tumor  \n",
       "743 TCGA-NH-A50T-01A 0.3490023 0.3084094    Primary Tumor  \n",
       "744 TCGA-NH-A50V-01A 0.3071601 0.2707328    Primary Tumor  \n",
       "745 TCGA-QG-A5YV-01A 0.3225338 0.2784844    Primary Tumor  \n",
       "746 TCGA-QG-A5YW-01A 0.2973438 0.2354677    Primary Tumor  \n",
       "747 TCGA-QG-A5YX-01A 0.4260945 0.3101755    Primary Tumor  \n",
       "748 TCGA-QG-A5Z1-01A 0.4063771 0.3163699    Primary Tumor  \n",
       "749 TCGA-QG-A5Z2-01A 0.1600003 0.2013508    Primary Tumor  "
      ]
     },
     "metadata": {},
     "output_type": "display_data"
    }
   ],
   "source": [
    "sith_small"
   ]
  },
  {
   "cell_type": "code",
   "execution_count": 5,
   "id": "3619419a",
   "metadata": {
    "vscode": {
     "languageId": "r"
    }
   },
   "outputs": [
    {
     "data": {
      "text/html": [
       "49152"
      ],
      "text/latex": [
       "49152"
      ],
      "text/markdown": [
       "49152"
      ],
      "text/plain": [
       "[1] 49152"
      ]
     },
     "metadata": {},
     "output_type": "display_data"
    }
   ],
   "source": [
    "mem.maxVSize()"
   ]
  },
  {
   "cell_type": "code",
   "execution_count": 6,
   "id": "891c9e66",
   "metadata": {
    "vscode": {
     "languageId": "r"
    }
   },
   "outputs": [
    {
     "data": {
      "text/html": [
       "1e+07"
      ],
      "text/latex": [
       "1e+07"
      ],
      "text/markdown": [
       "1e+07"
      ],
      "text/plain": [
       "[1] 1e+07"
      ]
     },
     "metadata": {},
     "output_type": "display_data"
    }
   ],
   "source": [
    "mem.maxVSize(10000000)"
   ]
  },
  {
   "cell_type": "code",
   "execution_count": 7,
   "id": "bcbfc19e",
   "metadata": {
    "vscode": {
     "languageId": "r"
    }
   },
   "outputs": [],
   "source": [
    "## Section: Preprocess and Merge Data\n",
    "\n",
    "# Rename 'SID' to 'bcrSID' to match the sith data\n",
    "setnames(tgca_methylation_long, \"SID\", \"bcrSID\", skip_absent=TRUE)\n",
    "\n",
    "\n",
    "# Merge the methylation data with the SiTH data using data.table's merge\n",
    "merged_long_data <- merge(\n",
    "  tgca_methylation_long,\n",
    "  # sith, #replace sith sith_small\n",
    "  sith_small,\n",
    "  by = \"bcrSID\",\n",
    "  all = FALSE,\n",
    "  sort = FALSE\n",
    ")\n",
    "\n",
    "# Remove duplicates efficiently using data.table's unique and setkey\n",
    "setkey(merged_long_data, bcrSID, \n",
    "       #icgc_specimen_id, \n",
    "       probe_id)\n",
    "merged_long_data <- unique(merged_long_data, by = key(merged_long_data))\n",
    "\n",
    "# Remove samples with missing SiTH scores\n",
    "merged_long_data <- merged_long_data[!is.na(SITH)]\n",
    "\n",
    "# Partition data into primary and non-primary samples using data.table's syntax\n",
    "primary_data <- merged_long_data[sample_type == \"Primary Tumor\", ]\n",
    "non_primary_data <- merged_long_data[sample_type != \"Primary Tumor\", ]\n",
    "non_primary_data1 <- non_primary_data\n",
    "\n",
    "write.csv(primary_data,\"../_OUTPUTS_/MERGE_tgca_sith_meth_primary.csv\")\n",
    "write.csv(non_primary_data,\"../_OUTPUTS_/MERGE_tgca_sith_meth_non_primary.csv\")"
   ]
  },
  {
   "cell_type": "code",
   "execution_count": 8,
   "id": "865db7f8",
   "metadata": {
    "vscode": {
     "languageId": "r"
    }
   },
   "outputs": [],
   "source": [
    "setnames(primary_data, \"INT_SITH_IQR\", \"INT_IQR\", skip_absent=TRUE)\n",
    "setnames(non_primary_data, \"INT_SITH_IQR\", \"INT_IQR\", skip_absent=TRUE)\n",
    "setnames(non_primary_data1, \"INT_SITH_IQR\", \"INT_IQR\", skip_absent=TRUE)"
   ]
  },
  {
   "cell_type": "code",
   "execution_count": 9,
   "id": "797617c4",
   "metadata": {
    "vscode": {
     "languageId": "r"
    }
   },
   "outputs": [
    {
     "name": "stderr",
     "output_type": "stream",
     "text": [
      "Warning message in asMethod(object):\n",
      "\"sparse->dense coercion: allocating vector of size 1.7 GiB\"\n",
      "Warning message:\n",
      "\"Partial NA coefficients for 681 probe(s)\"\n"
     ]
    }
   ],
   "source": [
    "## Section: Differential Analysis for Primary Samples\n",
    "\n",
    "### Define Groups and Create Sample Information\n",
    "\n",
    "# Define groups based on SITH score within 0.7-0.8 and outside using data.table\n",
    "primary_data[, SITH_Group := ifelse(SITH >= 0.7 & SITH <= 0.8, \"Within\", \"Outside\")]\n",
    "\n",
    "# Create a sample information table as data.table\n",
    "sample_info_primary <- unique(primary_data[, .(\n",
    "  bcrSID,\n",
    "  SITH,\n",
    "  SITH_Group\n",
    ")])\n",
    "\n",
    "### Map Sample and Probe Identifiers to Indices\n",
    "\n",
    "# Create mappings for samples and probes to indices\n",
    "samples_primary <- sample_info_primary$bcrSID\n",
    "probes <- unique(primary_data$probe_id)\n",
    "\n",
    "sample_indices_primary <- setNames(seq_along(samples_primary), samples_primary)\n",
    "probe_indices <- setNames(seq_along(probes), probes)\n",
    "\n",
    "# Map sample IDs and probe IDs to indices in primary_data\n",
    "primary_data[, `:=`(\n",
    "  sample_idx = sample_indices_primary[bcrSID],\n",
    "  probe_idx = probe_indices[probe_id]\n",
    ")]\n",
    "\n",
    "### Create a Sparse Methylation Matrix\n",
    "\n",
    "methylation_matrix_primary <- sparseMatrix(\n",
    "  i = primary_data$probe_idx,\n",
    "  j = primary_data$sample_idx,\n",
    "  x = primary_data$methylation_value,\n",
    "  dims = c(length(probes), length(samples_primary)),\n",
    "  dimnames = list(probes, samples_primary)\n",
    ")\n",
    "\n",
    "# Ensure sample_info_primary is in the same order as columns in methylation_matrix_primary\n",
    "sample_info_primary <- sample_info_primary[match(colnames(methylation_matrix_primary), sample_info_primary$bcrSID)]\n",
    "\n",
    "### Prepare the Design Matrix and Contrast\n",
    "\n",
    "group_factor_primary <- factor(sample_info_primary$SITH_Group, levels = c(\"Outside\", \"Within\"))\n",
    "design_matrix_primary <- model.matrix(~0 + group_factor_primary)\n",
    "colnames(design_matrix_primary) <- levels(group_factor_primary)\n",
    "\n",
    "# Define contrast\n",
    "contrast_primary <- makeContrasts(Within_vs_Outside = Within - Outside, levels = design_matrix_primary)\n",
    "\n",
    "### Define and Run Differential Analysis Function for Primary Samples\n",
    "\n",
    "perform_differential_analysis <- function(methylation_matrix, design_matrix, contrast_matrix, label) {\n",
    "  # Fit the linear model\n",
    "  fit <- lmFit(methylation_matrix, design_matrix)\n",
    "  \n",
    "  # Apply contrasts\n",
    "  fit2 <- contrasts.fit(fit, contrast_matrix)\n",
    "  \n",
    "  # Apply empirical Bayes moderation\n",
    "  fit2 <- eBayes(fit2)\n",
    "  \n",
    "  # Extract top differentially methylated probes\n",
    "  tT <- topTable(\n",
    "    fit2,\n",
    "    adjust.method = \"fdr\",\n",
    "    sort.by = \"P\",\n",
    "    number = Inf\n",
    "  )\n",
    "  \n",
    "  # Convert to data.table\n",
    "  differential_results <- as.data.table(tT)\n",
    "  \n",
    "  # Write results to file\n",
    "  write.table(tT, file=paste0(\"../_OUTPUTS_/dif_res_\", label, \".csv\"), sep=\",\")\n",
    "  \n",
    "  return(differential_results)\n",
    "}\n",
    "\n",
    "# Perform differential methylation analysis for primary samples\n",
    "differential_results_primary <- perform_differential_analysis(\n",
    "  methylation_matrix = methylation_matrix_primary,\n",
    "  design_matrix = design_matrix_primary,\n",
    "  contrast_matrix = contrast_primary,\n",
    "  label = \"primary_window\"\n",
    ")\n"
   ]
  },
  {
   "cell_type": "code",
   "execution_count": 10,
   "id": "cc9e0fc6",
   "metadata": {
    "vscode": {
     "languageId": "r"
    }
   },
   "outputs": [
    {
     "name": "stderr",
     "output_type": "stream",
     "text": [
      "Warning message:\n",
      "\"Partial NA coefficients for 209 probe(s)\"\n"
     ]
    }
   ],
   "source": [
    "## Section: Differential Analysis for Non-Primary Samples (SITH as a Continuous Variable)\n",
    "\n",
    "### Prepare Sample Information and Map Indices\n",
    "\n",
    "# Create a sample information table as data.table\n",
    "sample_info_non_primary <- unique(non_primary_data[, .(\n",
    "  bcrSID,\n",
    "  SITH\n",
    ")])\n",
    "\n",
    "# Create mappings for samples\n",
    "samples_non_primary <- sample_info_non_primary$bcrSID\n",
    "\n",
    "sample_indices_non_primary <- setNames(seq_along(samples_non_primary), samples_non_primary)\n",
    "\n",
    "# Map sample IDs and probe IDs to indices in non_primary_data\n",
    "non_primary_data[, `:=`(\n",
    "  sample_idx = sample_indices_non_primary[bcrSID],\n",
    "  probe_idx = probe_indices[probe_id]\n",
    ")]\n",
    "\n",
    "### Create a Sparse Methylation Matrix for Non-Primary Samples\n",
    "\n",
    "methylation_matrix_non_primary <- sparseMatrix(\n",
    "  i = non_primary_data$probe_idx,\n",
    "  j = non_primary_data$sample_idx,\n",
    "  x = non_primary_data$methylation_value,\n",
    "  dims = c(length(probes), length(samples_non_primary)),\n",
    "  dimnames = list(probes, samples_non_primary)\n",
    ")\n",
    "\n",
    "# Ensure sample_info_non_primary is in the same order as columns in methylation_matrix_non_primary\n",
    "sample_info_non_primary <- sample_info_non_primary[match(colnames(methylation_matrix_non_primary), sample_info_non_primary$bcrSID)]\n",
    "\n",
    "### Prepare the Design Matrix (Continuous SITH)\n",
    "\n",
    "design_matrix_corr <- model.matrix(~ SITH, data = sample_info_non_primary)\n",
    "\n",
    "### Define and Run Differential Analysis Function for Continuous SITH\n",
    "\n",
    "perform_differential_analysis_continuous <- function(methylation_matrix, design_matrix, coef_index, label_pos, label_neg) {\n",
    "  # Fit the linear model\n",
    "  fit <- lmFit(methylation_matrix, design_matrix)\n",
    "  \n",
    "  # Apply empirical Bayes moderation\n",
    "  fit2 <- eBayes(fit)\n",
    "  \n",
    "  # Extract top differentially methylated probes\n",
    "  tT <- topTable(\n",
    "    fit2,\n",
    "    coef = coef_index,\n",
    "    adjust.method = \"fdr\",\n",
    "    sort.by = \"P\",\n",
    "    number = Inf\n",
    "  )\n",
    "  \n",
    "  # Convert to data.table\n",
    "  differential_results <- as.data.table(tT)\n",
    "  \n",
    "  # Save the positive correlations\n",
    "  differential_results_pos <- differential_results[logFC > 0]\n",
    "  \n",
    "  # Save the negative correlations\n",
    "  differential_results_neg <- differential_results[logFC < 0]\n",
    "  \n",
    "  write.table(tT, file=paste0(\"../_OUTPUTS_/dif_res_\", label_pos, \".csv\"), sep=\",\")\n",
    "  \n",
    "  return(list(pos = differential_results_pos, neg = differential_results_neg))\n",
    "}\n",
    "\n",
    "# Perform differential methylation analysis for non-primary samples with continuous SITH\n",
    "results_corr <- perform_differential_analysis_continuous(\n",
    "  methylation_matrix = methylation_matrix_non_primary,\n",
    "  design_matrix = design_matrix_corr,\n",
    "  coef_index = \"SITH\",\n",
    "  label_pos = \"corr_SITH\",\n",
    "  label_neg = \"inverse_corr_SITH\"\n",
    ")\n"
   ]
  },
  {
   "cell_type": "code",
   "execution_count": 11,
   "id": "80c461a9",
   "metadata": {
    "vscode": {
     "languageId": "r"
    }
   },
   "outputs": [
    {
     "name": "stderr",
     "output_type": "stream",
     "text": [
      "Warning message:\n",
      "\"Partial NA coefficients for 209 probe(s)\"\n"
     ]
    }
   ],
   "source": [
    "## Section: Differential Analysis for Non-Primary Samples (INT_IQR as a Continuous Variable)\n",
    "\n",
    "### Prepare Sample Information and Map Indices (Using INT_IQR)\n",
    "\n",
    "# Create a sample information table as data.table\n",
    "sample_info_non_primary1 <- unique(non_primary_data[, .(\n",
    "  bcrSID,\n",
    "  INT_IQR\n",
    ")])\n",
    "\n",
    "# Create mappings for samples\n",
    "samples_non_primary1 <- sample_info_non_primary1$bcrSID\n",
    "\n",
    "sample_indices_non_primary1 <- setNames(seq_along(samples_non_primary1), samples_non_primary1)\n",
    "\n",
    "# Map sample IDs and probe IDs to indices in non_primary_data\n",
    "non_primary_data1[, `:=`(\n",
    "  sample_idx = sample_indices_non_primary1[bcrSID],\n",
    "  probe_idx = probe_indices[probe_id]\n",
    ")]\n",
    "\n",
    "### Create a Sparse Methylation Matrix for the INT_IQR Analysis\n",
    "\n",
    "methylation_matrix_non_primary1 <- sparseMatrix(\n",
    "  i = non_primary_data1$probe_idx,\n",
    "  j = non_primary_data1$sample_idx,\n",
    "  x = non_primary_data1$methylation_value,\n",
    "  dims = c(length(probes), length(samples_non_primary)),\n",
    "  dimnames = list(probes, samples_non_primary)\n",
    ")\n",
    "\n",
    "# Ensure sample_info_non_primary1 is in the same order as columns in methylation_matrix_non_primary1\n",
    "sample_info_non_primary1 <- sample_info_non_primary1[match(colnames(methylation_matrix_non_primary1), sample_info_non_primary1$bcrSID)]\n",
    "\n",
    "### Prepare the Design Matrix (Continuous INT_IQR)\n",
    "\n",
    "design_matrix_corr1 <- model.matrix(~ INT_IQR, data = sample_info_non_primary1)\n",
    "\n",
    "### Define and Run Differential Analysis Function for Continuous INT_IQR\n",
    "\n",
    "perform_differential_analysis_continuous1 <- function(methylation_matrix, design_matrix, coef_index, label_pos, label_neg) {\n",
    "  # Fit the linear model\n",
    "  fit <- lmFit(methylation_matrix, design_matrix)\n",
    "  \n",
    "  # Apply empirical Bayes moderation\n",
    "  fit2 <- eBayes(fit)\n",
    "  \n",
    "  # Extract top differentially methylated probes\n",
    "  tT <- topTable(\n",
    "    fit2,\n",
    "    coef = coef_index,\n",
    "    adjust.method = \"fdr\",\n",
    "    sort.by = \"P\",\n",
    "    number = Inf\n",
    "  )\n",
    "  \n",
    "  # Convert to data.table\n",
    "  differential_results <- as.data.table(tT)\n",
    "  \n",
    "  # Save the positive correlations\n",
    "  differential_results_pos <- differential_results[logFC > 0]\n",
    "  \n",
    "  # Save the negative correlations\n",
    "  differential_results_neg <- differential_results[logFC < 0]\n",
    "  \n",
    "  write.table(tT, file=paste0(\"../_OUTPUTS_/dif_res_\", label_pos, \".csv\"), sep=\",\")\n",
    "  \n",
    "  return(list(pos = differential_results_pos, neg = differential_results_neg))\n",
    "}\n",
    "\n",
    "# Perform differential methylation analysis for non-primary samples with continuous INT_IQR\n",
    "results_corr1 <- perform_differential_analysis_continuous1(\n",
    "  methylation_matrix = methylation_matrix_non_primary1,\n",
    "  design_matrix = design_matrix_corr1,\n",
    "  coef_index = \"INT_IQR\",\n",
    "  label_pos = \"corr_INT_IQR\",\n",
    "  label_neg = \"inverse_corr_INT_IQR\"\n",
    ")\n"
   ]
  }
 ],
 "metadata": {
  "kernelspec": {
   "display_name": "R",
   "language": "R",
   "name": "ir"
  },
  "language_info": {
   "codemirror_mode": "r",
   "file_extension": ".r",
   "mimetype": "text/x-r-source",
   "name": "R",
   "pygments_lexer": "r",
   "version": "4.4.2"
  }
 },
 "nbformat": 4,
 "nbformat_minor": 5
}
